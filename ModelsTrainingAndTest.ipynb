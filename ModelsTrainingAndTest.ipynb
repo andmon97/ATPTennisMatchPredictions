{
  "cells": [
    {
      "cell_type": "code",
      "execution_count": 2,
      "metadata": {
        "id": "ByecLrm-rgUk"
      },
      "outputs": [],
      "source": [
        "import pandas as pd\n",
        "import numpy as np\n",
        "\n",
        "import matplotlib.pyplot as plt\n",
        "%matplotlib inline\n",
        "import math\n",
        "\n",
        "import warnings\n",
        "warnings.filterwarnings('ignore')\n",
        "\n",
        "\n",
        "from sklearn import metrics\n",
        "\n",
        "from scipy.special import legendre\n",
        "from sklearn.preprocessing import PolynomialFeatures\n",
        "from sklearn.linear_model import LinearRegression\n",
        "import seaborn as sns"
      ]
    },
    {
      "cell_type": "markdown",
      "metadata": {
        "id": "jilBiTEArgUm"
      },
      "source": [
        "### Reading CSV"
      ]
    },
    {
      "cell_type": "code",
      "execution_count": 3,
      "metadata": {
        "id": "3xRzNJT8rgUo"
      },
      "outputs": [],
      "source": [
        "df = pd.read_csv('all_matches_final.csv')"
      ]
    },
    {
      "cell_type": "code",
      "execution_count": 4,
      "metadata": {
        "colab": {
          "base_uri": "https://localhost:8080/",
          "height": 394
        },
        "id": "qTs-KHC_rgUp",
        "outputId": "9d4ad7bd-7b36-489d-fb00-d57289d73a6c"
      },
      "outputs": [
        {
          "data": {
            "text/html": [
              "\n",
              "  <div id=\"df-29aa1019-f250-4bbd-8d92-cacd70d93626\">\n",
              "    <div class=\"colab-df-container\">\n",
              "      <div>\n",
              "<style scoped>\n",
              "    .dataframe tbody tr th:only-of-type {\n",
              "        vertical-align: middle;\n",
              "    }\n",
              "\n",
              "    .dataframe tbody tr th {\n",
              "        vertical-align: top;\n",
              "    }\n",
              "\n",
              "    .dataframe thead th {\n",
              "        text-align: right;\n",
              "    }\n",
              "</style>\n",
              "<table border=\"1\" class=\"dataframe\">\n",
              "  <thead>\n",
              "    <tr style=\"text-align: right;\">\n",
              "      <th></th>\n",
              "      <th>draw_size</th>\n",
              "      <th>tourney_date</th>\n",
              "      <th>match_num</th>\n",
              "      <th>Player1_ht</th>\n",
              "      <th>Player1_age</th>\n",
              "      <th>best_of</th>\n",
              "      <th>minutes</th>\n",
              "      <th>Player2_id</th>\n",
              "      <th>Player2_seed</th>\n",
              "      <th>Player2_ht</th>\n",
              "      <th>...</th>\n",
              "      <th>l_1stWon</th>\n",
              "      <th>l_2ndWon</th>\n",
              "      <th>l_SvGms</th>\n",
              "      <th>l_bpSaved</th>\n",
              "      <th>l_bpFaced</th>\n",
              "      <th>Player2_rank</th>\n",
              "      <th>Player2_rank_points</th>\n",
              "      <th>Player1_rank</th>\n",
              "      <th>Player1_rank_points</th>\n",
              "      <th>y</th>\n",
              "    </tr>\n",
              "  </thead>\n",
              "  <tbody>\n",
              "    <tr>\n",
              "      <th>count</th>\n",
              "      <td>99360.000000</td>\n",
              "      <td>9.936000e+04</td>\n",
              "      <td>99360.000000</td>\n",
              "      <td>94738.000000</td>\n",
              "      <td>99247.000000</td>\n",
              "      <td>99360.000000</td>\n",
              "      <td>86872.000000</td>\n",
              "      <td>99360.000000</td>\n",
              "      <td>30545.000000</td>\n",
              "      <td>93731.000000</td>\n",
              "      <td>...</td>\n",
              "      <td>89475.000000</td>\n",
              "      <td>89475.000000</td>\n",
              "      <td>89476.000000</td>\n",
              "      <td>89475.000000</td>\n",
              "      <td>89475.000000</td>\n",
              "      <td>97685.000000</td>\n",
              "      <td>96693.000000</td>\n",
              "      <td>97675.000000</td>\n",
              "      <td>96686.000000</td>\n",
              "      <td>99360.000000</td>\n",
              "    </tr>\n",
              "    <tr>\n",
              "      <th>mean</th>\n",
              "      <td>53.007568</td>\n",
              "      <td>2.004922e+07</td>\n",
              "      <td>63.579006</td>\n",
              "      <td>185.447762</td>\n",
              "      <td>25.844574</td>\n",
              "      <td>3.444243</td>\n",
              "      <td>103.130019</td>\n",
              "      <td>105058.821488</td>\n",
              "      <td>7.300671</td>\n",
              "      <td>185.322219</td>\n",
              "      <td>...</td>\n",
              "      <td>31.827103</td>\n",
              "      <td>15.002626</td>\n",
              "      <td>12.188710</td>\n",
              "      <td>4.813434</td>\n",
              "      <td>8.750768</td>\n",
              "      <td>100.975800</td>\n",
              "      <td>1041.937369</td>\n",
              "      <td>99.262647</td>\n",
              "      <td>1253.805670</td>\n",
              "      <td>0.500000</td>\n",
              "    </tr>\n",
              "    <tr>\n",
              "      <th>std</th>\n",
              "      <td>38.242706</td>\n",
              "      <td>8.848977e+04</td>\n",
              "      <td>107.630448</td>\n",
              "      <td>7.044066</td>\n",
              "      <td>3.805208</td>\n",
              "      <td>0.831349</td>\n",
              "      <td>39.211800</td>\n",
              "      <td>11028.044887</td>\n",
              "      <td>6.260864</td>\n",
              "      <td>6.753921</td>\n",
              "      <td>...</td>\n",
              "      <td>14.449350</td>\n",
              "      <td>7.228977</td>\n",
              "      <td>4.127567</td>\n",
              "      <td>3.274505</td>\n",
              "      <td>4.130267</td>\n",
              "      <td>165.065907</td>\n",
              "      <td>1077.558313</td>\n",
              "      <td>155.127915</td>\n",
              "      <td>1734.731502</td>\n",
              "      <td>0.500003</td>\n",
              "    </tr>\n",
              "    <tr>\n",
              "      <th>min</th>\n",
              "      <td>2.000000</td>\n",
              "      <td>1.990123e+07</td>\n",
              "      <td>1.000000</td>\n",
              "      <td>1.700000</td>\n",
              "      <td>14.757016</td>\n",
              "      <td>3.000000</td>\n",
              "      <td>0.000000</td>\n",
              "      <td>100284.000000</td>\n",
              "      <td>1.000000</td>\n",
              "      <td>1.700000</td>\n",
              "      <td>...</td>\n",
              "      <td>0.000000</td>\n",
              "      <td>0.000000</td>\n",
              "      <td>0.000000</td>\n",
              "      <td>-6.000000</td>\n",
              "      <td>0.000000</td>\n",
              "      <td>1.000000</td>\n",
              "      <td>1.000000</td>\n",
              "      <td>1.000000</td>\n",
              "      <td>1.000000</td>\n",
              "      <td>0.000000</td>\n",
              "    </tr>\n",
              "    <tr>\n",
              "      <th>25%</th>\n",
              "      <td>32.000000</td>\n",
              "      <td>1.997062e+07</td>\n",
              "      <td>9.000000</td>\n",
              "      <td>180.000000</td>\n",
              "      <td>23.039014</td>\n",
              "      <td>3.000000</td>\n",
              "      <td>75.000000</td>\n",
              "      <td>102087.000000</td>\n",
              "      <td>3.000000</td>\n",
              "      <td>180.000000</td>\n",
              "      <td>...</td>\n",
              "      <td>22.000000</td>\n",
              "      <td>10.000000</td>\n",
              "      <td>9.000000</td>\n",
              "      <td>2.000000</td>\n",
              "      <td>6.000000</td>\n",
              "      <td>27.000000</td>\n",
              "      <td>458.000000</td>\n",
              "      <td>26.000000</td>\n",
              "      <td>439.250000</td>\n",
              "      <td>0.000000</td>\n",
              "    </tr>\n",
              "    <tr>\n",
              "      <th>50%</th>\n",
              "      <td>32.000000</td>\n",
              "      <td>2.004102e+07</td>\n",
              "      <td>23.000000</td>\n",
              "      <td>185.000000</td>\n",
              "      <td>25.612594</td>\n",
              "      <td>3.000000</td>\n",
              "      <td>96.000000</td>\n",
              "      <td>103428.000000</td>\n",
              "      <td>6.000000</td>\n",
              "      <td>185.000000</td>\n",
              "      <td>...</td>\n",
              "      <td>29.000000</td>\n",
              "      <td>14.000000</td>\n",
              "      <td>11.000000</td>\n",
              "      <td>4.000000</td>\n",
              "      <td>8.000000</td>\n",
              "      <td>59.000000</td>\n",
              "      <td>745.000000</td>\n",
              "      <td>58.000000</td>\n",
              "      <td>748.000000</td>\n",
              "      <td>0.500000</td>\n",
              "    </tr>\n",
              "    <tr>\n",
              "      <th>75%</th>\n",
              "      <td>64.000000</td>\n",
              "      <td>2.012092e+07</td>\n",
              "      <td>53.000000</td>\n",
              "      <td>190.000000</td>\n",
              "      <td>28.410678</td>\n",
              "      <td>3.000000</td>\n",
              "      <td>125.000000</td>\n",
              "      <td>104660.000000</td>\n",
              "      <td>9.000000</td>\n",
              "      <td>190.000000</td>\n",
              "      <td>...</td>\n",
              "      <td>39.000000</td>\n",
              "      <td>19.000000</td>\n",
              "      <td>15.000000</td>\n",
              "      <td>7.000000</td>\n",
              "      <td>11.000000</td>\n",
              "      <td>103.000000</td>\n",
              "      <td>1230.000000</td>\n",
              "      <td>105.000000</td>\n",
              "      <td>1310.000000</td>\n",
              "      <td>1.000000</td>\n",
              "    </tr>\n",
              "    <tr>\n",
              "      <th>max</th>\n",
              "      <td>128.000000</td>\n",
              "      <td>2.021120e+07</td>\n",
              "      <td>1701.000000</td>\n",
              "      <td>211.000000</td>\n",
              "      <td>43.655031</td>\n",
              "      <td>5.000000</td>\n",
              "      <td>1146.000000</td>\n",
              "      <td>210274.000000</td>\n",
              "      <td>35.000000</td>\n",
              "      <td>211.000000</td>\n",
              "      <td>...</td>\n",
              "      <td>284.000000</td>\n",
              "      <td>101.000000</td>\n",
              "      <td>91.000000</td>\n",
              "      <td>28.000000</td>\n",
              "      <td>38.000000</td>\n",
              "      <td>2159.000000</td>\n",
              "      <td>16950.000000</td>\n",
              "      <td>2101.000000</td>\n",
              "      <td>16950.000000</td>\n",
              "      <td>1.000000</td>\n",
              "    </tr>\n",
              "  </tbody>\n",
              "</table>\n",
              "<p>8 rows × 36 columns</p>\n",
              "</div>\n",
              "      <button class=\"colab-df-convert\" onclick=\"convertToInteractive('df-29aa1019-f250-4bbd-8d92-cacd70d93626')\"\n",
              "              title=\"Convert this dataframe to an interactive table.\"\n",
              "              style=\"display:none;\">\n",
              "        \n",
              "  <svg xmlns=\"http://www.w3.org/2000/svg\" height=\"24px\"viewBox=\"0 0 24 24\"\n",
              "       width=\"24px\">\n",
              "    <path d=\"M0 0h24v24H0V0z\" fill=\"none\"/>\n",
              "    <path d=\"M18.56 5.44l.94 2.06.94-2.06 2.06-.94-2.06-.94-.94-2.06-.94 2.06-2.06.94zm-11 1L8.5 8.5l.94-2.06 2.06-.94-2.06-.94L8.5 2.5l-.94 2.06-2.06.94zm10 10l.94 2.06.94-2.06 2.06-.94-2.06-.94-.94-2.06-.94 2.06-2.06.94z\"/><path d=\"M17.41 7.96l-1.37-1.37c-.4-.4-.92-.59-1.43-.59-.52 0-1.04.2-1.43.59L10.3 9.45l-7.72 7.72c-.78.78-.78 2.05 0 2.83L4 21.41c.39.39.9.59 1.41.59.51 0 1.02-.2 1.41-.59l7.78-7.78 2.81-2.81c.8-.78.8-2.07 0-2.86zM5.41 20L4 18.59l7.72-7.72 1.47 1.35L5.41 20z\"/>\n",
              "  </svg>\n",
              "      </button>\n",
              "      \n",
              "  <style>\n",
              "    .colab-df-container {\n",
              "      display:flex;\n",
              "      flex-wrap:wrap;\n",
              "      gap: 12px;\n",
              "    }\n",
              "\n",
              "    .colab-df-convert {\n",
              "      background-color: #E8F0FE;\n",
              "      border: none;\n",
              "      border-radius: 50%;\n",
              "      cursor: pointer;\n",
              "      display: none;\n",
              "      fill: #1967D2;\n",
              "      height: 32px;\n",
              "      padding: 0 0 0 0;\n",
              "      width: 32px;\n",
              "    }\n",
              "\n",
              "    .colab-df-convert:hover {\n",
              "      background-color: #E2EBFA;\n",
              "      box-shadow: 0px 1px 2px rgba(60, 64, 67, 0.3), 0px 1px 3px 1px rgba(60, 64, 67, 0.15);\n",
              "      fill: #174EA6;\n",
              "    }\n",
              "\n",
              "    [theme=dark] .colab-df-convert {\n",
              "      background-color: #3B4455;\n",
              "      fill: #D2E3FC;\n",
              "    }\n",
              "\n",
              "    [theme=dark] .colab-df-convert:hover {\n",
              "      background-color: #434B5C;\n",
              "      box-shadow: 0px 1px 3px 1px rgba(0, 0, 0, 0.15);\n",
              "      filter: drop-shadow(0px 1px 2px rgba(0, 0, 0, 0.3));\n",
              "      fill: #FFFFFF;\n",
              "    }\n",
              "  </style>\n",
              "\n",
              "      <script>\n",
              "        const buttonEl =\n",
              "          document.querySelector('#df-29aa1019-f250-4bbd-8d92-cacd70d93626 button.colab-df-convert');\n",
              "        buttonEl.style.display =\n",
              "          google.colab.kernel.accessAllowed ? 'block' : 'none';\n",
              "\n",
              "        async function convertToInteractive(key) {\n",
              "          const element = document.querySelector('#df-29aa1019-f250-4bbd-8d92-cacd70d93626');\n",
              "          const dataTable =\n",
              "            await google.colab.kernel.invokeFunction('convertToInteractive',\n",
              "                                                     [key], {});\n",
              "          if (!dataTable) return;\n",
              "\n",
              "          const docLinkHtml = 'Like what you see? Visit the ' +\n",
              "            '<a target=\"_blank\" href=https://colab.research.google.com/notebooks/data_table.ipynb>data table notebook</a>'\n",
              "            + ' to learn more about interactive tables.';\n",
              "          element.innerHTML = '';\n",
              "          dataTable['output_type'] = 'display_data';\n",
              "          await google.colab.output.renderOutput(dataTable, element);\n",
              "          const docLink = document.createElement('div');\n",
              "          docLink.innerHTML = docLinkHtml;\n",
              "          element.appendChild(docLink);\n",
              "        }\n",
              "      </script>\n",
              "    </div>\n",
              "  </div>\n",
              "  "
            ],
            "text/plain": [
              "          draw_size  tourney_date     match_num    Player1_ht   Player1_age  \\\n",
              "count  99360.000000  9.936000e+04  99360.000000  94738.000000  99247.000000   \n",
              "mean      53.007568  2.004922e+07     63.579006    185.447762     25.844574   \n",
              "std       38.242706  8.848977e+04    107.630448      7.044066      3.805208   \n",
              "min        2.000000  1.990123e+07      1.000000      1.700000     14.757016   \n",
              "25%       32.000000  1.997062e+07      9.000000    180.000000     23.039014   \n",
              "50%       32.000000  2.004102e+07     23.000000    185.000000     25.612594   \n",
              "75%       64.000000  2.012092e+07     53.000000    190.000000     28.410678   \n",
              "max      128.000000  2.021120e+07   1701.000000    211.000000     43.655031   \n",
              "\n",
              "            best_of       minutes     Player2_id  Player2_seed    Player2_ht  \\\n",
              "count  99360.000000  86872.000000   99360.000000  30545.000000  93731.000000   \n",
              "mean       3.444243    103.130019  105058.821488      7.300671    185.322219   \n",
              "std        0.831349     39.211800   11028.044887      6.260864      6.753921   \n",
              "min        3.000000      0.000000  100284.000000      1.000000      1.700000   \n",
              "25%        3.000000     75.000000  102087.000000      3.000000    180.000000   \n",
              "50%        3.000000     96.000000  103428.000000      6.000000    185.000000   \n",
              "75%        3.000000    125.000000  104660.000000      9.000000    190.000000   \n",
              "max        5.000000   1146.000000  210274.000000     35.000000    211.000000   \n",
              "\n",
              "       ...      l_1stWon      l_2ndWon       l_SvGms     l_bpSaved  \\\n",
              "count  ...  89475.000000  89475.000000  89476.000000  89475.000000   \n",
              "mean   ...     31.827103     15.002626     12.188710      4.813434   \n",
              "std    ...     14.449350      7.228977      4.127567      3.274505   \n",
              "min    ...      0.000000      0.000000      0.000000     -6.000000   \n",
              "25%    ...     22.000000     10.000000      9.000000      2.000000   \n",
              "50%    ...     29.000000     14.000000     11.000000      4.000000   \n",
              "75%    ...     39.000000     19.000000     15.000000      7.000000   \n",
              "max    ...    284.000000    101.000000     91.000000     28.000000   \n",
              "\n",
              "          l_bpFaced  Player2_rank  Player2_rank_points  Player1_rank  \\\n",
              "count  89475.000000  97685.000000         96693.000000  97675.000000   \n",
              "mean       8.750768    100.975800          1041.937369     99.262647   \n",
              "std        4.130267    165.065907          1077.558313    155.127915   \n",
              "min        0.000000      1.000000             1.000000      1.000000   \n",
              "25%        6.000000     27.000000           458.000000     26.000000   \n",
              "50%        8.000000     59.000000           745.000000     58.000000   \n",
              "75%       11.000000    103.000000          1230.000000    105.000000   \n",
              "max       38.000000   2159.000000         16950.000000   2101.000000   \n",
              "\n",
              "       Player1_rank_points             y  \n",
              "count         96686.000000  99360.000000  \n",
              "mean           1253.805670      0.500000  \n",
              "std            1734.731502      0.500003  \n",
              "min               1.000000      0.000000  \n",
              "25%             439.250000      0.000000  \n",
              "50%             748.000000      0.500000  \n",
              "75%            1310.000000      1.000000  \n",
              "max           16950.000000      1.000000  \n",
              "\n",
              "[8 rows x 36 columns]"
            ]
          },
          "execution_count": 4,
          "metadata": {},
          "output_type": "execute_result"
        }
      ],
      "source": [
        "df.describe()"
      ]
    },
    {
      "cell_type": "code",
      "execution_count": 5,
      "metadata": {
        "colab": {
          "base_uri": "https://localhost:8080/"
        },
        "id": "ZUSpYucdrgUq",
        "outputId": "73c04da1-03b3-4564-ec3d-405d4e9f567b"
      },
      "outputs": [
        {
          "name": "stdout",
          "output_type": "stream",
          "text": [
            "<class 'pandas.core.frame.DataFrame'>\n",
            "RangeIndex: 99360 entries, 0 to 99359\n",
            "Data columns (total 50 columns):\n",
            " #   Column               Non-Null Count  Dtype  \n",
            "---  ------               --------------  -----  \n",
            " 0   tourney_id           99360 non-null  object \n",
            " 1   tourney_name         99360 non-null  object \n",
            " 2   surface              99360 non-null  object \n",
            " 3   draw_size            99360 non-null  int64  \n",
            " 4   tourney_level        99360 non-null  object \n",
            " 5   tourney_date         99360 non-null  int64  \n",
            " 6   match_num            99360 non-null  int64  \n",
            " 7   Player1_entry        15877 non-null  object \n",
            " 8   Player1_name         99360 non-null  object \n",
            " 9   Player1_hand         99351 non-null  object \n",
            " 10  Player1_ht           94738 non-null  float64\n",
            " 11  Player1_ioc          99360 non-null  object \n",
            " 12  Player1_age          99247 non-null  float64\n",
            " 13  score                99360 non-null  object \n",
            " 14  best_of              99360 non-null  int64  \n",
            " 15  round                99360 non-null  object \n",
            " 16  minutes              86872 non-null  float64\n",
            " 17  Player2_id           99360 non-null  int64  \n",
            " 18  Player2_seed         30545 non-null  float64\n",
            " 19  Player2_entry        15968 non-null  object \n",
            " 20  Player2_name         99360 non-null  object \n",
            " 21  Player2_hand         99319 non-null  object \n",
            " 22  Player2_ht           93731 non-null  float64\n",
            " 23  Player2_ioc          99360 non-null  object \n",
            " 24  Player2_age          99312 non-null  float64\n",
            " 25  Player1_id           99360 non-null  int64  \n",
            " 26  Player1_seed         31602 non-null  float64\n",
            " 27  w_ace                89475 non-null  float64\n",
            " 28  w_df                 89475 non-null  float64\n",
            " 29  w_svpt               89475 non-null  float64\n",
            " 30  w_1stIn              89475 non-null  float64\n",
            " 31  w_1stWon             89475 non-null  float64\n",
            " 32  w_2ndWon             89475 non-null  float64\n",
            " 33  w_SvGms              89476 non-null  float64\n",
            " 34  w_bpSaved            89475 non-null  float64\n",
            " 35  w_bpFaced            89475 non-null  float64\n",
            " 36  l_ace                89475 non-null  float64\n",
            " 37  l_df                 89475 non-null  float64\n",
            " 38  l_svpt               89475 non-null  float64\n",
            " 39  l_1stIn              89475 non-null  float64\n",
            " 40  l_1stWon             89475 non-null  float64\n",
            " 41  l_2ndWon             89475 non-null  float64\n",
            " 42  l_SvGms              89476 non-null  float64\n",
            " 43  l_bpSaved            89475 non-null  float64\n",
            " 44  l_bpFaced            89475 non-null  float64\n",
            " 45  Player2_rank         97685 non-null  float64\n",
            " 46  Player2_rank_points  96693 non-null  float64\n",
            " 47  Player1_rank         97675 non-null  float64\n",
            " 48  Player1_rank_points  96686 non-null  float64\n",
            " 49  y                    99360 non-null  int64  \n",
            "dtypes: float64(29), int64(7), object(14)\n",
            "memory usage: 37.9+ MB\n"
          ]
        }
      ],
      "source": [
        "df.info()"
      ]
    },
    {
      "cell_type": "markdown",
      "metadata": {
        "id": "5aHffEUtrgUq"
      },
      "source": [
        "### Separating  Features\n"
      ]
    },
    {
      "cell_type": "code",
      "execution_count": 6,
      "metadata": {
        "id": "uUidbXPzrgUr"
      },
      "outputs": [],
      "source": [
        "players = ['Player1_id','Player1_name','Player2_id','Player2_name']\n",
        "\n",
        "to_drop = ['tourney_id','tourney_date','score']\n",
        "\n",
        "cat_cols = ['tourney_name','surface','draw_size','tourney_level','Player1_entry','Player1_hand','Player1_ioc',\n",
        "            'Player2_entry','Player2_hand','Player2_ioc','best_of','round']\n",
        "\n",
        "\n",
        "num_cols = ['match_num','Player1_seed','Player1_ht','Player1_age','Player1_rank','Player1_rank_points',\n",
        "            'Player2_seed','Player2_ht','Player2_age','Player2_rank','Player2_rank_points','minutes','w_ace','w_df',\n",
        "            'w_svpt','w_1stIn','w_1stWon','w_2ndWon','w_SvGms','w_bpSaved','w_bpFaced','l_ace','l_df','l_svpt','l_1stIn',\n",
        "            'l_1stWon','l_2ndWon','l_SvGms','l_bpSaved','l_bpFaced']"
      ]
    },
    {
      "cell_type": "markdown",
      "metadata": {
        "id": "wEZdxi1ArgUr"
      },
      "source": [
        "### Dropping Irrelevant Features"
      ]
    },
    {
      "cell_type": "code",
      "execution_count": 7,
      "metadata": {
        "id": "O64q-VnHrgUr"
      },
      "outputs": [],
      "source": [
        "df = df.drop(to_drop, axis=1)"
      ]
    },
    {
      "cell_type": "markdown",
      "metadata": {
        "id": "VLuFShEYrgUs"
      },
      "source": [
        "### Replacing Missing Values"
      ]
    },
    {
      "cell_type": "code",
      "execution_count": 8,
      "metadata": {
        "id": "NqYZf4nhrgUs"
      },
      "outputs": [],
      "source": [
        "for i in cat_cols:\n",
        "    df[i] = df[i].replace(np.NaN, df[i].mode()[0])"
      ]
    },
    {
      "cell_type": "code",
      "execution_count": 9,
      "metadata": {
        "colab": {
          "base_uri": "https://localhost:8080/"
        },
        "id": "r_4bjsiLrgUs",
        "outputId": "34be509a-6fad-41b3-9d18-292bcf328a8b"
      },
      "outputs": [
        {
          "name": "stdout",
          "output_type": "stream",
          "text": [
            "match_num\n",
            "Player1_seed\n",
            "Player1_ht\n",
            "Player1_age\n",
            "Player1_rank\n",
            "Player1_rank_points\n",
            "Player2_seed\n",
            "Player2_ht\n",
            "Player2_age\n",
            "Player2_rank\n",
            "Player2_rank_points\n",
            "minutes\n",
            "w_ace\n",
            "w_df\n",
            "w_svpt\n",
            "w_1stIn\n",
            "w_1stWon\n",
            "w_2ndWon\n",
            "w_SvGms\n",
            "w_bpSaved\n",
            "w_bpFaced\n",
            "l_ace\n",
            "l_df\n",
            "l_svpt\n",
            "l_1stIn\n",
            "l_1stWon\n",
            "l_2ndWon\n",
            "l_SvGms\n",
            "l_bpSaved\n",
            "l_bpFaced\n"
          ]
        }
      ],
      "source": [
        "for i in num_cols:\n",
        "    print(i)\n",
        "    df[i] = df[i].replace(np.NaN,df[i].mean())"
      ]
    },
    {
      "cell_type": "markdown",
      "metadata": {
        "id": "ak_W0Ru7rgUt"
      },
      "source": [
        "### convert categorical data to numeric"
      ]
    },
    {
      "cell_type": "code",
      "execution_count": 10,
      "metadata": {
        "id": "loEsx7tqrgUt"
      },
      "outputs": [],
      "source": [
        "def convertCatToNum(dff):\n",
        "    dff_new = pd.get_dummies(dff, columns=cat_cols) \n",
        "    return dff_new"
      ]
    },
    {
      "cell_type": "code",
      "execution_count": 11,
      "metadata": {
        "colab": {
          "base_uri": "https://localhost:8080/",
          "height": 369
        },
        "id": "s59z-1RzrgUt",
        "outputId": "eda1cd9b-2b6f-41b0-9237-9be38e5a98d9"
      },
      "outputs": [
        {
          "data": {
            "text/html": [
              "\n",
              "  <div id=\"df-98ec42a1-c850-44f4-b80d-099b893b04ea\">\n",
              "    <div class=\"colab-df-container\">\n",
              "      <div>\n",
              "<style scoped>\n",
              "    .dataframe tbody tr th:only-of-type {\n",
              "        vertical-align: middle;\n",
              "    }\n",
              "\n",
              "    .dataframe tbody tr th {\n",
              "        vertical-align: top;\n",
              "    }\n",
              "\n",
              "    .dataframe thead th {\n",
              "        text-align: right;\n",
              "    }\n",
              "</style>\n",
              "<table border=\"1\" class=\"dataframe\">\n",
              "  <thead>\n",
              "    <tr style=\"text-align: right;\">\n",
              "      <th></th>\n",
              "      <th>match_num</th>\n",
              "      <th>Player1_name</th>\n",
              "      <th>Player1_ht</th>\n",
              "      <th>Player1_age</th>\n",
              "      <th>minutes</th>\n",
              "      <th>Player2_id</th>\n",
              "      <th>Player2_seed</th>\n",
              "      <th>Player2_name</th>\n",
              "      <th>Player2_ht</th>\n",
              "      <th>Player2_age</th>\n",
              "      <th>...</th>\n",
              "      <th>round_BR</th>\n",
              "      <th>round_ER</th>\n",
              "      <th>round_F</th>\n",
              "      <th>round_QF</th>\n",
              "      <th>round_R128</th>\n",
              "      <th>round_R16</th>\n",
              "      <th>round_R32</th>\n",
              "      <th>round_R64</th>\n",
              "      <th>round_RR</th>\n",
              "      <th>round_SF</th>\n",
              "    </tr>\n",
              "  </thead>\n",
              "  <tbody>\n",
              "    <tr>\n",
              "      <th>0</th>\n",
              "      <td>270</td>\n",
              "      <td>Novak Djokovic</td>\n",
              "      <td>188.0</td>\n",
              "      <td>31.438741</td>\n",
              "      <td>93.000000</td>\n",
              "      <td>105311</td>\n",
              "      <td>7.300671</td>\n",
              "      <td>Joao Sousa</td>\n",
              "      <td>185.000000</td>\n",
              "      <td>29.582478</td>\n",
              "      <td>...</td>\n",
              "      <td>0</td>\n",
              "      <td>0</td>\n",
              "      <td>0</td>\n",
              "      <td>0</td>\n",
              "      <td>0</td>\n",
              "      <td>0</td>\n",
              "      <td>1</td>\n",
              "      <td>0</td>\n",
              "      <td>0</td>\n",
              "      <td>0</td>\n",
              "    </tr>\n",
              "    <tr>\n",
              "      <th>1</th>\n",
              "      <td>25</td>\n",
              "      <td>Bohdan Ulihrach</td>\n",
              "      <td>188.0</td>\n",
              "      <td>29.670089</td>\n",
              "      <td>87.000000</td>\n",
              "      <td>103454</td>\n",
              "      <td>7.000000</td>\n",
              "      <td>Nicolas Massu</td>\n",
              "      <td>183.000000</td>\n",
              "      <td>25.043121</td>\n",
              "      <td>...</td>\n",
              "      <td>0</td>\n",
              "      <td>0</td>\n",
              "      <td>0</td>\n",
              "      <td>1</td>\n",
              "      <td>0</td>\n",
              "      <td>0</td>\n",
              "      <td>0</td>\n",
              "      <td>0</td>\n",
              "      <td>0</td>\n",
              "      <td>0</td>\n",
              "    </tr>\n",
              "    <tr>\n",
              "      <th>2</th>\n",
              "      <td>286</td>\n",
              "      <td>Albert Ramos</td>\n",
              "      <td>188.0</td>\n",
              "      <td>28.750171</td>\n",
              "      <td>171.000000</td>\n",
              "      <td>105539</td>\n",
              "      <td>7.300671</td>\n",
              "      <td>Evgeny Donskoy</td>\n",
              "      <td>185.000000</td>\n",
              "      <td>26.442163</td>\n",
              "      <td>...</td>\n",
              "      <td>0</td>\n",
              "      <td>0</td>\n",
              "      <td>0</td>\n",
              "      <td>0</td>\n",
              "      <td>0</td>\n",
              "      <td>1</td>\n",
              "      <td>0</td>\n",
              "      <td>0</td>\n",
              "      <td>0</td>\n",
              "      <td>0</td>\n",
              "    </tr>\n",
              "    <tr>\n",
              "      <th>3</th>\n",
              "      <td>2</td>\n",
              "      <td>Renzo Furlan</td>\n",
              "      <td>175.0</td>\n",
              "      <td>25.722108</td>\n",
              "      <td>103.130019</td>\n",
              "      <td>102338</td>\n",
              "      <td>7.300671</td>\n",
              "      <td>Yevgeny Kafelnikov</td>\n",
              "      <td>190.000000</td>\n",
              "      <td>21.963039</td>\n",
              "      <td>...</td>\n",
              "      <td>0</td>\n",
              "      <td>0</td>\n",
              "      <td>0</td>\n",
              "      <td>0</td>\n",
              "      <td>0</td>\n",
              "      <td>0</td>\n",
              "      <td>0</td>\n",
              "      <td>0</td>\n",
              "      <td>1</td>\n",
              "      <td>0</td>\n",
              "    </tr>\n",
              "    <tr>\n",
              "      <th>4</th>\n",
              "      <td>5</td>\n",
              "      <td>Mike Scheidweiler</td>\n",
              "      <td>188.0</td>\n",
              "      <td>20.837782</td>\n",
              "      <td>103.130019</td>\n",
              "      <td>104051</td>\n",
              "      <td>7.300671</td>\n",
              "      <td>Andrej Kracman</td>\n",
              "      <td>185.322219</td>\n",
              "      <td>20.068446</td>\n",
              "      <td>...</td>\n",
              "      <td>0</td>\n",
              "      <td>0</td>\n",
              "      <td>0</td>\n",
              "      <td>0</td>\n",
              "      <td>0</td>\n",
              "      <td>0</td>\n",
              "      <td>0</td>\n",
              "      <td>0</td>\n",
              "      <td>1</td>\n",
              "      <td>0</td>\n",
              "    </tr>\n",
              "  </tbody>\n",
              "</table>\n",
              "<p>5 rows × 2774 columns</p>\n",
              "</div>\n",
              "      <button class=\"colab-df-convert\" onclick=\"convertToInteractive('df-98ec42a1-c850-44f4-b80d-099b893b04ea')\"\n",
              "              title=\"Convert this dataframe to an interactive table.\"\n",
              "              style=\"display:none;\">\n",
              "        \n",
              "  <svg xmlns=\"http://www.w3.org/2000/svg\" height=\"24px\"viewBox=\"0 0 24 24\"\n",
              "       width=\"24px\">\n",
              "    <path d=\"M0 0h24v24H0V0z\" fill=\"none\"/>\n",
              "    <path d=\"M18.56 5.44l.94 2.06.94-2.06 2.06-.94-2.06-.94-.94-2.06-.94 2.06-2.06.94zm-11 1L8.5 8.5l.94-2.06 2.06-.94-2.06-.94L8.5 2.5l-.94 2.06-2.06.94zm10 10l.94 2.06.94-2.06 2.06-.94-2.06-.94-.94-2.06-.94 2.06-2.06.94z\"/><path d=\"M17.41 7.96l-1.37-1.37c-.4-.4-.92-.59-1.43-.59-.52 0-1.04.2-1.43.59L10.3 9.45l-7.72 7.72c-.78.78-.78 2.05 0 2.83L4 21.41c.39.39.9.59 1.41.59.51 0 1.02-.2 1.41-.59l7.78-7.78 2.81-2.81c.8-.78.8-2.07 0-2.86zM5.41 20L4 18.59l7.72-7.72 1.47 1.35L5.41 20z\"/>\n",
              "  </svg>\n",
              "      </button>\n",
              "      \n",
              "  <style>\n",
              "    .colab-df-container {\n",
              "      display:flex;\n",
              "      flex-wrap:wrap;\n",
              "      gap: 12px;\n",
              "    }\n",
              "\n",
              "    .colab-df-convert {\n",
              "      background-color: #E8F0FE;\n",
              "      border: none;\n",
              "      border-radius: 50%;\n",
              "      cursor: pointer;\n",
              "      display: none;\n",
              "      fill: #1967D2;\n",
              "      height: 32px;\n",
              "      padding: 0 0 0 0;\n",
              "      width: 32px;\n",
              "    }\n",
              "\n",
              "    .colab-df-convert:hover {\n",
              "      background-color: #E2EBFA;\n",
              "      box-shadow: 0px 1px 2px rgba(60, 64, 67, 0.3), 0px 1px 3px 1px rgba(60, 64, 67, 0.15);\n",
              "      fill: #174EA6;\n",
              "    }\n",
              "\n",
              "    [theme=dark] .colab-df-convert {\n",
              "      background-color: #3B4455;\n",
              "      fill: #D2E3FC;\n",
              "    }\n",
              "\n",
              "    [theme=dark] .colab-df-convert:hover {\n",
              "      background-color: #434B5C;\n",
              "      box-shadow: 0px 1px 3px 1px rgba(0, 0, 0, 0.15);\n",
              "      filter: drop-shadow(0px 1px 2px rgba(0, 0, 0, 0.3));\n",
              "      fill: #FFFFFF;\n",
              "    }\n",
              "  </style>\n",
              "\n",
              "      <script>\n",
              "        const buttonEl =\n",
              "          document.querySelector('#df-98ec42a1-c850-44f4-b80d-099b893b04ea button.colab-df-convert');\n",
              "        buttonEl.style.display =\n",
              "          google.colab.kernel.accessAllowed ? 'block' : 'none';\n",
              "\n",
              "        async function convertToInteractive(key) {\n",
              "          const element = document.querySelector('#df-98ec42a1-c850-44f4-b80d-099b893b04ea');\n",
              "          const dataTable =\n",
              "            await google.colab.kernel.invokeFunction('convertToInteractive',\n",
              "                                                     [key], {});\n",
              "          if (!dataTable) return;\n",
              "\n",
              "          const docLinkHtml = 'Like what you see? Visit the ' +\n",
              "            '<a target=\"_blank\" href=https://colab.research.google.com/notebooks/data_table.ipynb>data table notebook</a>'\n",
              "            + ' to learn more about interactive tables.';\n",
              "          element.innerHTML = '';\n",
              "          dataTable['output_type'] = 'display_data';\n",
              "          await google.colab.output.renderOutput(dataTable, element);\n",
              "          const docLink = document.createElement('div');\n",
              "          docLink.innerHTML = docLinkHtml;\n",
              "          element.appendChild(docLink);\n",
              "        }\n",
              "      </script>\n",
              "    </div>\n",
              "  </div>\n",
              "  "
            ],
            "text/plain": [
              "   match_num       Player1_name  Player1_ht  Player1_age     minutes  \\\n",
              "0        270     Novak Djokovic       188.0    31.438741   93.000000   \n",
              "1         25    Bohdan Ulihrach       188.0    29.670089   87.000000   \n",
              "2        286       Albert Ramos       188.0    28.750171  171.000000   \n",
              "3          2       Renzo Furlan       175.0    25.722108  103.130019   \n",
              "4          5  Mike Scheidweiler       188.0    20.837782  103.130019   \n",
              "\n",
              "   Player2_id  Player2_seed        Player2_name  Player2_ht  Player2_age  ...  \\\n",
              "0      105311      7.300671          Joao Sousa  185.000000    29.582478  ...   \n",
              "1      103454      7.000000       Nicolas Massu  183.000000    25.043121  ...   \n",
              "2      105539      7.300671      Evgeny Donskoy  185.000000    26.442163  ...   \n",
              "3      102338      7.300671  Yevgeny Kafelnikov  190.000000    21.963039  ...   \n",
              "4      104051      7.300671      Andrej Kracman  185.322219    20.068446  ...   \n",
              "\n",
              "   round_BR  round_ER  round_F  round_QF  round_R128  round_R16  round_R32  \\\n",
              "0         0         0        0         0           0          0          1   \n",
              "1         0         0        0         1           0          0          0   \n",
              "2         0         0        0         0           0          1          0   \n",
              "3         0         0        0         0           0          0          0   \n",
              "4         0         0        0         0           0          0          0   \n",
              "\n",
              "   round_R64  round_RR  round_SF  \n",
              "0          0         0         0  \n",
              "1          0         0         0  \n",
              "2          0         0         0  \n",
              "3          0         1         0  \n",
              "4          0         1         0  \n",
              "\n",
              "[5 rows x 2774 columns]"
            ]
          },
          "execution_count": 11,
          "metadata": {},
          "output_type": "execute_result"
        }
      ],
      "source": [
        "df = convertCatToNum(df)\n",
        "df.head()"
      ]
    },
    {
      "cell_type": "markdown",
      "metadata": {
        "id": "DpqlJusgrgUu"
      },
      "source": [
        "### Normalize numeric features"
      ]
    },
    {
      "cell_type": "code",
      "execution_count": 12,
      "metadata": {
        "colab": {
          "base_uri": "https://localhost:8080/",
          "height": 369
        },
        "id": "019s0oeKrgUu",
        "outputId": "c0cc3332-9ad5-438a-abad-1b4fee929dca"
      },
      "outputs": [
        {
          "data": {
            "text/html": [
              "\n",
              "  <div id=\"df-75b0952e-fa0b-4b56-99b3-da6ee6c8209a\">\n",
              "    <div class=\"colab-df-container\">\n",
              "      <div>\n",
              "<style scoped>\n",
              "    .dataframe tbody tr th:only-of-type {\n",
              "        vertical-align: middle;\n",
              "    }\n",
              "\n",
              "    .dataframe tbody tr th {\n",
              "        vertical-align: top;\n",
              "    }\n",
              "\n",
              "    .dataframe thead th {\n",
              "        text-align: right;\n",
              "    }\n",
              "</style>\n",
              "<table border=\"1\" class=\"dataframe\">\n",
              "  <thead>\n",
              "    <tr style=\"text-align: right;\">\n",
              "      <th></th>\n",
              "      <th>match_num</th>\n",
              "      <th>Player1_name</th>\n",
              "      <th>Player1_ht</th>\n",
              "      <th>Player1_age</th>\n",
              "      <th>minutes</th>\n",
              "      <th>Player2_id</th>\n",
              "      <th>Player2_seed</th>\n",
              "      <th>Player2_name</th>\n",
              "      <th>Player2_ht</th>\n",
              "      <th>Player2_age</th>\n",
              "      <th>...</th>\n",
              "      <th>round_BR</th>\n",
              "      <th>round_ER</th>\n",
              "      <th>round_F</th>\n",
              "      <th>round_QF</th>\n",
              "      <th>round_R128</th>\n",
              "      <th>round_R16</th>\n",
              "      <th>round_R32</th>\n",
              "      <th>round_R64</th>\n",
              "      <th>round_RR</th>\n",
              "      <th>round_SF</th>\n",
              "    </tr>\n",
              "  </thead>\n",
              "  <tbody>\n",
              "    <tr>\n",
              "      <th>0</th>\n",
              "      <td>0.158235</td>\n",
              "      <td>Novak Djokovic</td>\n",
              "      <td>0.890110</td>\n",
              "      <td>0.577262</td>\n",
              "      <td>0.081152</td>\n",
              "      <td>105311</td>\n",
              "      <td>0.185314</td>\n",
              "      <td>Joao Sousa</td>\n",
              "      <td>0.875776</td>\n",
              "      <td>0.480688</td>\n",
              "      <td>...</td>\n",
              "      <td>0</td>\n",
              "      <td>0</td>\n",
              "      <td>0</td>\n",
              "      <td>0</td>\n",
              "      <td>0</td>\n",
              "      <td>0</td>\n",
              "      <td>1</td>\n",
              "      <td>0</td>\n",
              "      <td>0</td>\n",
              "      <td>0</td>\n",
              "    </tr>\n",
              "    <tr>\n",
              "      <th>1</th>\n",
              "      <td>0.014118</td>\n",
              "      <td>Bohdan Ulihrach</td>\n",
              "      <td>0.890110</td>\n",
              "      <td>0.516059</td>\n",
              "      <td>0.075916</td>\n",
              "      <td>103454</td>\n",
              "      <td>0.176471</td>\n",
              "      <td>Nicolas Massu</td>\n",
              "      <td>0.866221</td>\n",
              "      <td>0.337423</td>\n",
              "      <td>...</td>\n",
              "      <td>0</td>\n",
              "      <td>0</td>\n",
              "      <td>0</td>\n",
              "      <td>1</td>\n",
              "      <td>0</td>\n",
              "      <td>0</td>\n",
              "      <td>0</td>\n",
              "      <td>0</td>\n",
              "      <td>0</td>\n",
              "      <td>0</td>\n",
              "    </tr>\n",
              "    <tr>\n",
              "      <th>2</th>\n",
              "      <td>0.167647</td>\n",
              "      <td>Albert Ramos</td>\n",
              "      <td>0.890110</td>\n",
              "      <td>0.484225</td>\n",
              "      <td>0.149215</td>\n",
              "      <td>105539</td>\n",
              "      <td>0.185314</td>\n",
              "      <td>Evgeny Donskoy</td>\n",
              "      <td>0.875776</td>\n",
              "      <td>0.381578</td>\n",
              "      <td>...</td>\n",
              "      <td>0</td>\n",
              "      <td>0</td>\n",
              "      <td>0</td>\n",
              "      <td>0</td>\n",
              "      <td>0</td>\n",
              "      <td>1</td>\n",
              "      <td>0</td>\n",
              "      <td>0</td>\n",
              "      <td>0</td>\n",
              "      <td>0</td>\n",
              "    </tr>\n",
              "    <tr>\n",
              "      <th>3</th>\n",
              "      <td>0.000588</td>\n",
              "      <td>Renzo Furlan</td>\n",
              "      <td>0.827998</td>\n",
              "      <td>0.379441</td>\n",
              "      <td>0.089991</td>\n",
              "      <td>102338</td>\n",
              "      <td>0.185314</td>\n",
              "      <td>Yevgeny Kafelnikov</td>\n",
              "      <td>0.899666</td>\n",
              "      <td>0.240214</td>\n",
              "      <td>...</td>\n",
              "      <td>0</td>\n",
              "      <td>0</td>\n",
              "      <td>0</td>\n",
              "      <td>0</td>\n",
              "      <td>0</td>\n",
              "      <td>0</td>\n",
              "      <td>0</td>\n",
              "      <td>0</td>\n",
              "      <td>1</td>\n",
              "      <td>0</td>\n",
              "    </tr>\n",
              "    <tr>\n",
              "      <th>4</th>\n",
              "      <td>0.002353</td>\n",
              "      <td>Mike Scheidweiler</td>\n",
              "      <td>0.890110</td>\n",
              "      <td>0.210422</td>\n",
              "      <td>0.089991</td>\n",
              "      <td>104051</td>\n",
              "      <td>0.185314</td>\n",
              "      <td>Andrej Kracman</td>\n",
              "      <td>0.877316</td>\n",
              "      <td>0.180420</td>\n",
              "      <td>...</td>\n",
              "      <td>0</td>\n",
              "      <td>0</td>\n",
              "      <td>0</td>\n",
              "      <td>0</td>\n",
              "      <td>0</td>\n",
              "      <td>0</td>\n",
              "      <td>0</td>\n",
              "      <td>0</td>\n",
              "      <td>1</td>\n",
              "      <td>0</td>\n",
              "    </tr>\n",
              "  </tbody>\n",
              "</table>\n",
              "<p>5 rows × 2774 columns</p>\n",
              "</div>\n",
              "      <button class=\"colab-df-convert\" onclick=\"convertToInteractive('df-75b0952e-fa0b-4b56-99b3-da6ee6c8209a')\"\n",
              "              title=\"Convert this dataframe to an interactive table.\"\n",
              "              style=\"display:none;\">\n",
              "        \n",
              "  <svg xmlns=\"http://www.w3.org/2000/svg\" height=\"24px\"viewBox=\"0 0 24 24\"\n",
              "       width=\"24px\">\n",
              "    <path d=\"M0 0h24v24H0V0z\" fill=\"none\"/>\n",
              "    <path d=\"M18.56 5.44l.94 2.06.94-2.06 2.06-.94-2.06-.94-.94-2.06-.94 2.06-2.06.94zm-11 1L8.5 8.5l.94-2.06 2.06-.94-2.06-.94L8.5 2.5l-.94 2.06-2.06.94zm10 10l.94 2.06.94-2.06 2.06-.94-2.06-.94-.94-2.06-.94 2.06-2.06.94z\"/><path d=\"M17.41 7.96l-1.37-1.37c-.4-.4-.92-.59-1.43-.59-.52 0-1.04.2-1.43.59L10.3 9.45l-7.72 7.72c-.78.78-.78 2.05 0 2.83L4 21.41c.39.39.9.59 1.41.59.51 0 1.02-.2 1.41-.59l7.78-7.78 2.81-2.81c.8-.78.8-2.07 0-2.86zM5.41 20L4 18.59l7.72-7.72 1.47 1.35L5.41 20z\"/>\n",
              "  </svg>\n",
              "      </button>\n",
              "      \n",
              "  <style>\n",
              "    .colab-df-container {\n",
              "      display:flex;\n",
              "      flex-wrap:wrap;\n",
              "      gap: 12px;\n",
              "    }\n",
              "\n",
              "    .colab-df-convert {\n",
              "      background-color: #E8F0FE;\n",
              "      border: none;\n",
              "      border-radius: 50%;\n",
              "      cursor: pointer;\n",
              "      display: none;\n",
              "      fill: #1967D2;\n",
              "      height: 32px;\n",
              "      padding: 0 0 0 0;\n",
              "      width: 32px;\n",
              "    }\n",
              "\n",
              "    .colab-df-convert:hover {\n",
              "      background-color: #E2EBFA;\n",
              "      box-shadow: 0px 1px 2px rgba(60, 64, 67, 0.3), 0px 1px 3px 1px rgba(60, 64, 67, 0.15);\n",
              "      fill: #174EA6;\n",
              "    }\n",
              "\n",
              "    [theme=dark] .colab-df-convert {\n",
              "      background-color: #3B4455;\n",
              "      fill: #D2E3FC;\n",
              "    }\n",
              "\n",
              "    [theme=dark] .colab-df-convert:hover {\n",
              "      background-color: #434B5C;\n",
              "      box-shadow: 0px 1px 3px 1px rgba(0, 0, 0, 0.15);\n",
              "      filter: drop-shadow(0px 1px 2px rgba(0, 0, 0, 0.3));\n",
              "      fill: #FFFFFF;\n",
              "    }\n",
              "  </style>\n",
              "\n",
              "      <script>\n",
              "        const buttonEl =\n",
              "          document.querySelector('#df-75b0952e-fa0b-4b56-99b3-da6ee6c8209a button.colab-df-convert');\n",
              "        buttonEl.style.display =\n",
              "          google.colab.kernel.accessAllowed ? 'block' : 'none';\n",
              "\n",
              "        async function convertToInteractive(key) {\n",
              "          const element = document.querySelector('#df-75b0952e-fa0b-4b56-99b3-da6ee6c8209a');\n",
              "          const dataTable =\n",
              "            await google.colab.kernel.invokeFunction('convertToInteractive',\n",
              "                                                     [key], {});\n",
              "          if (!dataTable) return;\n",
              "\n",
              "          const docLinkHtml = 'Like what you see? Visit the ' +\n",
              "            '<a target=\"_blank\" href=https://colab.research.google.com/notebooks/data_table.ipynb>data table notebook</a>'\n",
              "            + ' to learn more about interactive tables.';\n",
              "          element.innerHTML = '';\n",
              "          dataTable['output_type'] = 'display_data';\n",
              "          await google.colab.output.renderOutput(dataTable, element);\n",
              "          const docLink = document.createElement('div');\n",
              "          docLink.innerHTML = docLinkHtml;\n",
              "          element.appendChild(docLink);\n",
              "        }\n",
              "      </script>\n",
              "    </div>\n",
              "  </div>\n",
              "  "
            ],
            "text/plain": [
              "   match_num       Player1_name  Player1_ht  Player1_age   minutes  \\\n",
              "0   0.158235     Novak Djokovic    0.890110     0.577262  0.081152   \n",
              "1   0.014118    Bohdan Ulihrach    0.890110     0.516059  0.075916   \n",
              "2   0.167647       Albert Ramos    0.890110     0.484225  0.149215   \n",
              "3   0.000588       Renzo Furlan    0.827998     0.379441  0.089991   \n",
              "4   0.002353  Mike Scheidweiler    0.890110     0.210422  0.089991   \n",
              "\n",
              "   Player2_id  Player2_seed        Player2_name  Player2_ht  Player2_age  ...  \\\n",
              "0      105311      0.185314          Joao Sousa    0.875776     0.480688  ...   \n",
              "1      103454      0.176471       Nicolas Massu    0.866221     0.337423  ...   \n",
              "2      105539      0.185314      Evgeny Donskoy    0.875776     0.381578  ...   \n",
              "3      102338      0.185314  Yevgeny Kafelnikov    0.899666     0.240214  ...   \n",
              "4      104051      0.185314      Andrej Kracman    0.877316     0.180420  ...   \n",
              "\n",
              "   round_BR  round_ER  round_F  round_QF  round_R128  round_R16  round_R32  \\\n",
              "0         0         0        0         0           0          0          1   \n",
              "1         0         0        0         1           0          0          0   \n",
              "2         0         0        0         0           0          1          0   \n",
              "3         0         0        0         0           0          0          0   \n",
              "4         0         0        0         0           0          0          0   \n",
              "\n",
              "   round_R64  round_RR  round_SF  \n",
              "0          0         0         0  \n",
              "1          0         0         0  \n",
              "2          0         0         0  \n",
              "3          0         1         0  \n",
              "4          0         1         0  \n",
              "\n",
              "[5 rows x 2774 columns]"
            ]
          },
          "execution_count": 12,
          "metadata": {},
          "output_type": "execute_result"
        }
      ],
      "source": [
        "def normalize(dff,col_name_list):\n",
        "    result = dff.copy()\n",
        "    for feature_name in col_name_list:\n",
        "        max_value = dff[feature_name].max()\n",
        "        min_value = dff[feature_name].min()\n",
        "        result[feature_name] = (dff[feature_name] - min_value) / (max_value - min_value)\n",
        "    return result\n",
        "\n",
        "\n",
        "df = normalize(df,num_cols)\n",
        "df.head()"
      ]
    },
    {
      "cell_type": "markdown",
      "metadata": {},
      "source": [
        "### Plot Stats"
      ]
    },
    {
      "cell_type": "code",
      "execution_count": 13,
      "metadata": {
        "colab": {
          "base_uri": "https://localhost:8080/",
          "height": 1000
        },
        "id": "K2dBX2XUrgUu",
        "outputId": "7ec867cc-17dc-4288-dd3e-af736b027ebd"
      },
      "outputs": [
        {
          "name": "stderr",
          "output_type": "stream",
          "text": [
            "No handles with labels found to put in legend.\n"
          ]
        },
        {
          "data": {
            "image/png": "[encoded data removed]",
            "text/plain": [
              "<Figure size 432x288 with 1 Axes>"
            ]
          },
          "metadata": {
            "needs_background": "light"
          },
          "output_type": "display_data"
        },
        {
          "name": "stderr",
          "output_type": "stream",
          "text": [
            "No handles with labels found to put in legend.\n"
          ]
        },
        {
          "data": {
            "image/png": "[encoded data removed]",
            "text/plain": [
              "<Figure size 432x288 with 1 Axes>"
            ]
          },
          "metadata": {
            "needs_background": "light"
          },
          "output_type": "display_data"
        },
        {
          "name": "stderr",
          "output_type": "stream",
          "text": [
            "No handles with labels found to put in legend.\n"
          ]
        },
        {
          "data": {
            "image/png": "[encoded data removed]",
            "text/plain": [
              "<Figure size 432x288 with 1 Axes>"
            ]
          },
          "metadata": {
            "needs_background": "light"
          },
          "output_type": "display_data"
        },
        {
          "name": "stderr",
          "output_type": "stream",
          "text": [
            "No handles with labels found to put in legend.\n"
          ]
        },
        {
          "data": {
            "image/png": "[encoded data removed]",
            "text/plain": [
              "<Figure size 432x288 with 1 Axes>"
            ]
          },
          "metadata": {
            "needs_background": "light"
          },
          "output_type": "display_data"
        },
        {
          "name": "stderr",
          "output_type": "stream",
          "text": [
            "No handles with labels found to put in legend.\n"
          ]
        },
        {
          "data": {
            "image/png": "[encoded data removed]",
            "text/plain": [
              "<Figure size 432x288 with 1 Axes>"
            ]
          },
          "metadata": {
            "needs_background": "light"
          },
          "output_type": "display_data"
        },
        {
          "name": "stderr",
          "output_type": "stream",
          "text": [
            "No handles with labels found to put in legend.\n"
          ]
        },
        {
          "data": {
            "image/png": "[encoded data removed]",
            "text/plain": [
              "<Figure size 432x288 with 1 Axes>"
            ]
          },
          "metadata": {
            "needs_background": "light"
          },
          "output_type": "display_data"
        },
        {
          "name": "stderr",
          "output_type": "stream",
          "text": [
            "No handles with labels found to put in legend.\n"
          ]
        },
        {
          "data": {
            "image/png": "[encoded data removed]",
            "text/plain": [
              "<Figure size 432x288 with 1 Axes>"
            ]
          },
          "metadata": {
            "needs_background": "light"
          },
          "output_type": "display_data"
        },
        {
          "name": "stderr",
          "output_type": "stream",
          "text": [
            "No handles with labels found to put in legend.\n"
          ]
        },
        {
          "data": {
            "image/png": "[encoded data removed]",
            "text/plain": [
              "<Figure size 432x288 with 1 Axes>"
            ]
          },
          "metadata": {
            "needs_background": "light"
          },
          "output_type": "display_data"
        },
        {
          "name": "stderr",
          "output_type": "stream",
          "text": [
            "No handles with labels found to put in legend.\n"
          ]
        },
        {
          "data": {
            "image/png": "[encoded data removed]",
            "text/plain": [
              "<Figure size 432x288 with 1 Axes>"
            ]
          },
          "metadata": {
            "needs_background": "light"
          },
          "output_type": "display_data"
        },
        {
          "name": "stderr",
          "output_type": "stream",
          "text": [
            "No handles with labels found to put in legend.\n"
          ]
        },
        {
          "data": {
            "image/png": "[encoded data removed]",
            "text/plain": [
              "<Figure size 432x288 with 1 Axes>"
            ]
          },
          "metadata": {
            "needs_background": "light"
          },
          "output_type": "display_data"
        },
        {
          "name": "stderr",
          "output_type": "stream",
          "text": [
            "No handles with labels found to put in legend.\n"
          ]
        },
        {
          "data": {
            "image/png": "[encoded data removed]",
            "text/plain": [
              "<Figure size 432x288 with 1 Axes>"
            ]
          },
          "metadata": {
            "needs_background": "light"
          },
          "output_type": "display_data"
        },
        {
          "name": "stderr",
          "output_type": "stream",
          "text": [
            "No handles with labels found to put in legend.\n"
          ]
        },
        {
          "data": {
            "image/png": "[encoded data removed]",
            "text/plain": [
              "<Figure size 432x288 with 1 Axes>"
            ]
          },
          "metadata": {
            "needs_background": "light"
          },
          "output_type": "display_data"
        },
        {
          "name": "stderr",
          "output_type": "stream",
          "text": [
            "No handles with labels found to put in legend.\n"
          ]
        },
        {
          "data": {
            "image/png": "[encoded data removed]",
            "text/plain": [
              "<Figure size 432x288 with 1 Axes>"
            ]
          },
          "metadata": {
            "needs_background": "light"
          },
          "output_type": "display_data"
        },
        {
          "name": "stderr",
          "output_type": "stream",
          "text": [
            "No handles with labels found to put in legend.\n"
          ]
        },
        {
          "data": {
            "image/png": "[encoded data removed]",
            "text/plain": [
              "<Figure size 432x288 with 1 Axes>"
            ]
          },
          "metadata": {
            "needs_background": "light"
          },
          "output_type": "display_data"
        },
        {
          "name": "stderr",
          "output_type": "stream",
          "text": [
            "No handles with labels found to put in legend.\n"
          ]
        },
        {
          "data": {
            "image/png": "[encoded data removed]",
            "text/plain": [
              "<Figure size 432x288 with 1 Axes>"
            ]
          },
          "metadata": {
            "needs_background": "light"
          },
          "output_type": "display_data"
        },
        {
          "name": "stderr",
          "output_type": "stream",
          "text": [
            "No handles with labels found to put in legend.\n"
          ]
        },
        {
          "data": {
            "image/png": "[encoded data removed]",
            "text/plain": [
              "<Figure size 432x288 with 1 Axes>"
            ]
          },
          "metadata": {
            "needs_background": "light"
          },
          "output_type": "display_data"
        },
        {
          "name": "stderr",
          "output_type": "stream",
          "text": [
            "No handles with labels found to put in legend.\n"
          ]
        },
        {
          "data": {
            "image/png": "[encoded data removed]",
            "text/plain": [
              "<Figure size 432x288 with 1 Axes>"
            ]
          },
          "metadata": {
            "needs_background": "light"
          },
          "output_type": "display_data"
        },
        {
          "name": "stderr",
          "output_type": "stream",
          "text": [
            "No handles with labels found to put in legend.\n"
          ]
        },
        {
          "data": {
            "image/png": "[encoded data removed]",
            "text/plain": [
              "<Figure size 432x288 with 1 Axes>"
            ]
          },
          "metadata": {
            "needs_background": "light"
          },
          "output_type": "display_data"
        },
        {
          "name": "stderr",
          "output_type": "stream",
          "text": [
            "No handles with labels found to put in legend.\n"
          ]
        },
        {
          "data": {
            "image/png": "[encoded data removed]",
            "text/plain": [
              "<Figure size 432x288 with 1 Axes>"
            ]
          },
          "metadata": {
            "needs_background": "light"
          },
          "output_type": "display_data"
        },
        {
          "name": "stderr",
          "output_type": "stream",
          "text": [
            "No handles with labels found to put in legend.\n"
          ]
        },
        {
          "data": {
            "image/png": "[encoded data removed]",
            "text/plain": [
              "<Figure size 432x288 with 1 Axes>"
            ]
          },
          "metadata": {
            "needs_background": "light"
          },
          "output_type": "display_data"
        },
        {
          "name": "stderr",
          "output_type": "stream",
          "text": [
            "No handles with labels found to put in legend.\n"
          ]
        },
        {
          "data": {
            "image/png": "[encoded data removed]",
            "text/plain": [
              "<Figure size 432x288 with 1 Axes>"
            ]
          },
          "metadata": {
            "needs_background": "light"
          },
          "output_type": "display_data"
        },
        {
          "name": "stderr",
          "output_type": "stream",
          "text": [
            "No handles with labels found to put in legend.\n"
          ]
        },
        {
          "data": {
            "image/png": "[encoded data removed]",
            "text/plain": [
              "<Figure size 432x288 with 1 Axes>"
            ]
          },
          "metadata": {
            "needs_background": "light"
          },
          "output_type": "display_data"
        },
        {
          "name": "stderr",
          "output_type": "stream",
          "text": [
            "No handles with labels found to put in legend.\n"
          ]
        },
        {
          "data": {
            "image/png": "[encoded data removed]",
            "text/plain": [
              "<Figure size 432x288 with 1 Axes>"
            ]
          },
          "metadata": {
            "needs_background": "light"
          },
          "output_type": "display_data"
        },
        {
          "name": "stderr",
          "output_type": "stream",
          "text": [
            "No handles with labels found to put in legend.\n"
          ]
        },
        {
          "data": {
            "image/png": "[encoded data removed]",
            "text/plain": [
              "<Figure size 432x288 with 1 Axes>"
            ]
          },
          "metadata": {
            "needs_background": "light"
          },
          "output_type": "display_data"
        },
        {
          "name": "stderr",
          "output_type": "stream",
          "text": [
            "No handles with labels found to put in legend.\n"
          ]
        },
        {
          "data": {
            "image/png": "[encoded data removed]",
            "text/plain": [
              "<Figure size 432x288 with 1 Axes>"
            ]
          },
          "metadata": {
            "needs_background": "light"
          },
          "output_type": "display_data"
        },
        {
          "name": "stderr",
          "output_type": "stream",
          "text": [
            "No handles with labels found to put in legend.\n"
          ]
        },
        {
          "data": {
            "image/png": "[encoded data removed]",
            "text/plain": [
              "<Figure size 432x288 with 1 Axes>"
            ]
          },
          "metadata": {
            "needs_background": "light"
          },
          "output_type": "display_data"
        },
        {
          "name": "stderr",
          "output_type": "stream",
          "text": [
            "No handles with labels found to put in legend.\n"
          ]
        },
        {
          "data": {
            "image/png": "[encoded data removed]",
            "text/plain": [
              "<Figure size 432x288 with 1 Axes>"
            ]
          },
          "metadata": {
            "needs_background": "light"
          },
          "output_type": "display_data"
        },
        {
          "name": "stderr",
          "output_type": "stream",
          "text": [
            "No handles with labels found to put in legend.\n"
          ]
        },
        {
          "data": {
            "image/png": "[encoded data removed]",
            "text/plain": [
              "<Figure size 432x288 with 1 Axes>"
            ]
          },
          "metadata": {
            "needs_background": "light"
          },
          "output_type": "display_data"
        },
        {
          "name": "stderr",
          "output_type": "stream",
          "text": [
            "No handles with labels found to put in legend.\n"
          ]
        },
        {
          "data": {
            "image/png": "[encoded data removed]",
            "text/plain": [
              "<Figure size 432x288 with 1 Axes>"
            ]
          },
          "metadata": {
            "needs_background": "light"
          },
          "output_type": "display_data"
        },
        {
          "name": "stderr",
          "output_type": "stream",
          "text": [
            "No handles with labels found to put in legend.\n"
          ]
        },
        {
          "data": {
            "image/png": "[encoded data removed]",
            "text/plain": [
              "<Figure size 432x288 with 1 Axes>"
            ]
          },
          "metadata": {
            "needs_background": "light"
          },
          "output_type": "display_data"
        }
      ],
      "source": [
        "num_bins = 10\n",
        "for i in num_cols:\n",
        "    plt.hist(df[i],num_bins,density=True, stacked= True,facecolor='blue',alpha=0.7)\n",
        "    plt.ylabel(i)\n",
        "    plt.title(\"Data Distribution for \" + i)\n",
        "    plt.legend()\n",
        "    plt.grid()\n",
        "    plt.show()"
      ]
    },
    {
      "cell_type": "code",
      "execution_count": null,
      "metadata": {
        "colab": {
          "base_uri": "https://localhost:8080/",
          "height": 280
        },
        "id": "JC0Po3G5rgUv",
        "outputId": "52808979-b989-4666-fa92-af6b0779bcc8"
      },
      "outputs": [
        {
          "data": {
            "image/png": "[encoded data removed]",
            "text/plain": [
              "<Figure size 432x288 with 1 Axes>"
            ]
          },
          "metadata": {
            "needs_background": "light"
          },
          "output_type": "display_data"
        }
      ],
      "source": [
        "sns.distplot(df[num_cols[0]], color='g', bins=100, kde_kws={\"color\": \"k\", \"lw\": 3, \"label\": num_cols[0]},\n",
        "             hist_kws={'alpha': 0.4});"
      ]
    },
    {
      "cell_type": "code",
      "execution_count": null,
      "metadata": {
        "colab": {
          "base_uri": "https://localhost:8080/",
          "height": 280
        },
        "id": "tr0evfg6rgUv",
        "outputId": "3496b9f7-c667-46fb-fc7e-3471cd4a3e2e"
      },
      "outputs": [
        {
          "data": {
            "image/png": "[encoded data removed]",
            "text/plain": [
              "<Figure size 432x288 with 1 Axes>"
            ]
          },
          "metadata": {
            "needs_background": "light"
          },
          "output_type": "display_data"
        }
      ],
      "source": [
        "sns.distplot(df[num_cols[1]], color='r', bins=100, kde_kws={\"color\": \"k\", \"lw\": 3, \"label\": num_cols[1]},\n",
        "             hist_kws={'alpha': 0.4});"
      ]
    },
    {
      "cell_type": "code",
      "execution_count": null,
      "metadata": {
        "colab": {
          "base_uri": "https://localhost:8080/",
          "height": 280
        },
        "id": "rCm-lMgargUw",
        "outputId": "0acb297b-6096-4426-ef28-9c71e3dd7fb5"
      },
      "outputs": [
        {
          "data": {
            "image/png": "[encoded data removed]",
            "text/plain": [
              "<Figure size 432x288 with 1 Axes>"
            ]
          },
          "metadata": {
            "needs_background": "light"
          },
          "output_type": "display_data"
        }
      ],
      "source": [
        "sns.distplot(df[num_cols[2]], color='b', bins=100, kde_kws={\"color\": \"k\", \"lw\": 3, \"label\": num_cols[2]},\n",
        "             hist_kws={'alpha': 0.4});"
      ]
    },
    {
      "cell_type": "code",
      "execution_count": null,
      "metadata": {
        "colab": {
          "base_uri": "https://localhost:8080/",
          "height": 280
        },
        "id": "NpvytTtIrgUw",
        "outputId": "94ae8f45-5d1b-437f-c6b0-4ff4a3008884"
      },
      "outputs": [
        {
          "data": {
            "image/png": "[encoded data removed]",
            "text/plain": [
              "<Figure size 432x288 with 1 Axes>"
            ]
          },
          "metadata": {
            "needs_background": "light"
          },
          "output_type": "display_data"
        }
      ],
      "source": [
        "sns.distplot(df[num_cols[3]], color='r', bins=100, kde_kws={\"color\": \"k\", \"lw\": 3, \"label\": num_cols[3]},\n",
        "             hist_kws={'alpha': 0.4});"
      ]
    },
    {
      "cell_type": "code",
      "execution_count": null,
      "metadata": {
        "colab": {
          "base_uri": "https://localhost:8080/",
          "height": 280
        },
        "id": "9K9R-Bu3rgUx",
        "outputId": "348b368c-61b3-41a2-f816-b3f450c0b1d1"
      },
      "outputs": [
        {
          "data": {
            "image/png": "[encoded data removed]",
            "text/plain": [
              "<Figure size 432x288 with 1 Axes>"
            ]
          },
          "metadata": {
            "needs_background": "light"
          },
          "output_type": "display_data"
        }
      ],
      "source": [
        "sns.distplot(df[num_cols[4]], color='b', bins=100, kde_kws={\"color\": \"k\", \"lw\": 3, \"label\": num_cols[4]},\n",
        "             hist_kws={'alpha': 0.4});"
      ]
    },
    {
      "cell_type": "code",
      "execution_count": 14,
      "metadata": {
        "id": "pCSrcBG7rgUy"
      },
      "outputs": [],
      "source": [
        "from sklearn.model_selection import train_test_split\n",
        "from sklearn import metrics\n",
        "from sklearn.metrics import classification_report\n",
        "from sklearn.model_selection import GroupKFold\n",
        "from sklearn.model_selection import RandomizedSearchCV\n",
        "\n",
        "from sklearn.linear_model import LogisticRegression\n",
        "from sklearn.ensemble import RandomForestClassifier\n",
        "from sklearn.ensemble import AdaBoostClassifier\n",
        "from sklearn.neural_network import MLPRegressor"
      ]
    },
    {
      "cell_type": "code",
      "execution_count": 15,
      "metadata": {
        "id": "8IBJokabrgUy"
      },
      "outputs": [],
      "source": [
        "Y = pd.DataFrame(df['y'])\n",
        "df = df.drop(['y'], axis=1)\n",
        "X = df\n",
        "X_train, X_test, y_train, y_test = train_test_split(X, Y, test_size=0.33, random_state=42)"
      ]
    },
    {
      "cell_type": "code",
      "execution_count": 16,
      "metadata": {
        "id": "ptIA3dKyrgUz"
      },
      "outputs": [],
      "source": [
        "X_train = X_train.drop(['Player1_id'], axis=1)\n",
        "X_train = X_train.drop(['Player1_name'], axis=1)\n",
        "X_train = X_train.drop(['Player2_id'], axis=1)\n",
        "X_train = X_train.drop(['Player2_name'], axis=1)"
      ]
    },
    {
      "cell_type": "code",
      "execution_count": 17,
      "metadata": {
        "id": "V9QzlbzYrgUz"
      },
      "outputs": [],
      "source": [
        "test_names = []\n",
        "for index, row in X_test.iterrows():\n",
        "    v = []\n",
        "    v.append(row['Player1_name'])\n",
        "    v.append(row['Player2_name'])\n",
        "    test_names.append(v)"
      ]
    },
    {
      "cell_type": "code",
      "execution_count": 18,
      "metadata": {
        "id": "jAxt2fpvrgUz"
      },
      "outputs": [],
      "source": [
        "X_test = X_test.drop(['Player1_id'], axis=1)\n",
        "X_test = X_test.drop(['Player1_name'], axis=1)\n",
        "X_test = X_test.drop(['Player2_id'], axis=1)\n",
        "X_test = X_test.drop(['Player2_name'], axis=1)"
      ]
    },
    {
      "cell_type": "markdown",
      "metadata": {
        "id": "_q6L76F5rgU1"
      },
      "source": [
        "## Logistic Regression"
      ]
    },
    {
      "cell_type": "code",
      "execution_count": null,
      "metadata": {
        "colab": {
          "base_uri": "https://localhost:8080/"
        },
        "id": "OKK6oHBmrgU1",
        "outputId": "6e895e30-263f-4f82-b3c1-0210187737da"
      },
      "outputs": [
        {
          "name": "stdout",
          "output_type": "stream",
          "text": [
            "Best Score: 0.9037418991692354\n",
            "Best Hyperparameters: {'solver': 'sag', 'penalty': 'l2', 'C': 1291.5496650148827}\n"
          ]
        }
      ],
      "source": [
        "from sklearn.linear_model import LogisticRegression\n",
        "\n",
        "# Define model\n",
        "model = LogisticRegression()\n",
        "\n",
        "# define evaluation\n",
        "#gkf = GroupKFold(n_splits=3) if not spec as cv= in the randomized search default is 5 fold cv\n",
        "\n",
        "# define search space\n",
        "param_grid = {\n",
        "    'C' : np.logspace(0, 4, num=10),\n",
        "    'penalty' : ['l1', 'l2'],\n",
        "    'solver' : ['liblinear', 'sag']\n",
        "}\n",
        "\n",
        "search = RandomizedSearchCV(model, param_grid, n_iter=5, cv=10, scoring='accuracy', n_jobs=-1, random_state=1)\n",
        "\n",
        "# execute search\n",
        "result = search.fit(X_train, y_train)\n",
        "# summarize result\n",
        "print('Best Score: %s' % result.best_score_)\n",
        "print('Best Hyperparameters: %s' % result.best_params_)"
      ]
    },
    {
      "cell_type": "code",
      "execution_count": null,
      "metadata": {
        "colab": {
          "base_uri": "https://localhost:8080/"
        },
        "id": "cKIXJQrafP8o",
        "outputId": "ecee1063-d759-411c-b005-ff47c1c772d6"
      },
      "outputs": [
        {
          "name": "stdout",
          "output_type": "stream",
          "text": [
            "              precision    recall  f1-score   support\n",
            "\n",
            "           0       0.90      0.92      0.91     16419\n",
            "           1       0.92      0.89      0.90     16370\n",
            "\n",
            "    accuracy                           0.91     32789\n",
            "   macro avg       0.91      0.91      0.91     32789\n",
            "weighted avg       0.91      0.91      0.91     32789\n",
            "\n"
          ]
        }
      ],
      "source": [
        "# Prediction with best model from random search \n",
        "best_random = result.best_estimator_\n",
        "\n",
        "y_pred_test = best_random.predict(X_test)\n",
        "print(classification_report(y_test, y_pred_test))"
      ]
    },
    {
      "cell_type": "markdown",
      "metadata": {
        "id": "sKwouzat9KyK"
      },
      "source": [
        "## Decision tree"
      ]
    },
    {
      "cell_type": "code",
      "execution_count": 20,
      "metadata": {
        "colab": {
          "base_uri": "https://localhost:8080/"
        },
        "id": "2zeBF6c-9Pm7",
        "outputId": "c06353d2-d6f3-46f8-a98a-02986917b022"
      },
      "outputs": [
        {
          "name": "stdout",
          "output_type": "stream",
          "text": [
            "Best Score: 0.7380541865308181\n",
            "Best Hyperparameters: {'max_features': 'auto', 'max_depth': 85}\n"
          ]
        }
      ],
      "source": [
        "from sklearn.tree import DecisionTreeClassifier\n",
        "\n",
        "# Define model\n",
        "model = DecisionTreeClassifier()\n",
        "\n",
        "\n",
        "# define search space\n",
        "param_grid = {\n",
        "    'max_depth': list(range(25, 100, 10)),\n",
        "    'max_features': ['auto', 'sqrt', 'log2']\n",
        "}\n",
        "\n",
        "search = RandomizedSearchCV(model, param_grid, n_iter=5, cv=10, scoring='accuracy', n_jobs=-1, random_state=1)\n",
        "\n",
        "# execute search\n",
        "result = search.fit(X_train, y_train)\n",
        "# summarize result\n",
        "print('Best Score: %s' % result.best_score_)\n",
        "print('Best Hyperparameters: %s' % result.best_params_)"
      ]
    },
    {
      "cell_type": "code",
      "execution_count": 21,
      "metadata": {
        "colab": {
          "base_uri": "https://localhost:8080/"
        },
        "id": "TV-Z5xwr-Zz0",
        "outputId": "074c6e02-a034-4622-8a0e-54d21f613161"
      },
      "outputs": [
        {
          "name": "stdout",
          "output_type": "stream",
          "text": [
            "              precision    recall  f1-score   support\n",
            "\n",
            "           0       0.73      0.72      0.72     16419\n",
            "           1       0.72      0.73      0.72     16370\n",
            "\n",
            "    accuracy                           0.72     32789\n",
            "   macro avg       0.72      0.72      0.72     32789\n",
            "weighted avg       0.72      0.72      0.72     32789\n",
            "\n"
          ]
        }
      ],
      "source": [
        "# Prediction with best model from random search \n",
        "best_random = result.best_estimator_\n",
        "\n",
        "y_pred_test = best_random.predict(X_test)\n",
        "print(classification_report(y_test, y_pred_test))"
      ]
    },
    {
      "cell_type": "markdown",
      "metadata": {
        "id": "YUYsI2pUrgU0"
      },
      "source": [
        "## RandomForestClassifier\n",
        "\n",
        "Random forest is an ensemble method. We use also random search grid for hyperparameter tuning."
      ]
    },
    {
      "cell_type": "code",
      "execution_count": 22,
      "metadata": {
        "colab": {
          "base_uri": "https://localhost:8080/"
        },
        "id": "dhqvPVnmrgU0",
        "outputId": "52dc4ebf-7087-4d89-c1b8-047ec9e00cd1"
      },
      "outputs": [
        {
          "name": "stdout",
          "output_type": "stream",
          "text": [
            "Best Score: 0.8977032287083618\n",
            "Best Hyperparameters: {'n_estimators': 190, 'max_depth': 65}\n"
          ]
        }
      ],
      "source": [
        "# Define model\n",
        "model = RandomForestClassifier()\n",
        "\n",
        "# define evaluation\n",
        "#gkf = GroupKFold(n_splits=3) if not spec as cv= in the randomized search default is 5 fold cv\n",
        "\n",
        "# define search space\n",
        "param_grid = {\n",
        "    'max_depth': list(range(25, 100, 10)),\n",
        "    'n_estimators': list(range(80, 200, 10))\n",
        "}\n",
        "\n",
        "search = RandomizedSearchCV(model, param_grid, n_iter=5, cv=10, scoring='accuracy', n_jobs=-1, random_state=1)\n",
        "\n",
        "# execute search\n",
        "result = search.fit(X_train, y_train)\n",
        "# summarize result\n",
        "print('Best Score: %s' % result.best_score_)\n",
        "print('Best Hyperparameters: %s' % result.best_params_)\n",
        "\n"
      ]
    },
    {
      "cell_type": "code",
      "execution_count": 23,
      "metadata": {
        "colab": {
          "base_uri": "https://localhost:8080/"
        },
        "id": "4kraVuS9MbG4",
        "outputId": "63075566-c3a2-4492-f3ac-0df51692831b"
      },
      "outputs": [
        {
          "name": "stdout",
          "output_type": "stream",
          "text": [
            "              precision    recall  f1-score   support\n",
            "\n",
            "           0       0.87      0.93      0.90     16419\n",
            "           1       0.93      0.86      0.90     16370\n",
            "\n",
            "    accuracy                           0.90     32789\n",
            "   macro avg       0.90      0.90      0.90     32789\n",
            "weighted avg       0.90      0.90      0.90     32789\n",
            "\n"
          ]
        }
      ],
      "source": [
        "# Prediction with best model from random search \n",
        "best_random = result.best_estimator_\n",
        "\n",
        "y_pred_test = best_random.predict(X_test)\n",
        "print(classification_report(y_test, y_pred_test))"
      ]
    },
    {
      "cell_type": "markdown",
      "metadata": {
        "id": "DJ-IaCP-PEyZ"
      },
      "source": [
        "# ADABoost"
      ]
    },
    {
      "cell_type": "code",
      "execution_count": null,
      "metadata": {
        "colab": {
          "base_uri": "https://localhost:8080/"
        },
        "id": "AKYe2z9LPr3K",
        "outputId": "5fb4f835-b56c-45af-a676-dba6ea43df1a"
      },
      "outputs": [
        {
          "name": "stdout",
          "output_type": "stream",
          "text": [
            "Best Score: 0.8707094551087058\n",
            "Best Hyperparameters: {'n_estimators': 180}\n"
          ]
        }
      ],
      "source": [
        "# Define model\n",
        "model = AdaBoostClassifier()\n",
        "\n",
        "# define evaluation\n",
        "#gkf = GroupKFold(n_splits=3) if not spec as cv= in the randomized search default is 5 fold cv\n",
        "\n",
        "# define search space\n",
        "param_grid = {\n",
        "    'n_estimators': list(range(80, 200, 10))\n",
        "}\n",
        "\n",
        "search = RandomizedSearchCV(model, param_grid, n_iter=5, cv=10, scoring='accuracy', n_jobs=-1, random_state=1)\n",
        "\n",
        "# execute search\n",
        "result = search.fit(X_train, y_train)\n",
        "# summarize result\n",
        "print('Best Score: %s' % result.best_score_)\n",
        "print('Best Hyperparameters: %s' % result.best_params_)\n"
      ]
    },
    {
      "cell_type": "code",
      "execution_count": null,
      "metadata": {
        "colab": {
          "base_uri": "https://localhost:8080/"
        },
        "id": "CGOhgUhYQMbg",
        "outputId": "a8f47df3-6852-454f-c438-6611d6e9e383"
      },
      "outputs": [
        {
          "name": "stdout",
          "output_type": "stream",
          "text": [
            "              precision    recall  f1-score   support\n",
            "\n",
            "           0       0.85      0.90      0.87     16419\n",
            "           1       0.89      0.85      0.87     16370\n",
            "\n",
            "    accuracy                           0.87     32789\n",
            "   macro avg       0.87      0.87      0.87     32789\n",
            "weighted avg       0.87      0.87      0.87     32789\n",
            "\n"
          ]
        }
      ],
      "source": [
        "# Prediction with best model from random search \n",
        "best_random = result.best_estimator_\n",
        "\n",
        "y_pred_test = best_random.predict(X_test)\n",
        "print(classification_report(y_test, y_pred_test))"
      ]
    },
    {
      "cell_type": "markdown",
      "metadata": {
        "id": "8LN_8yNhe5pj"
      },
      "source": [
        "# Logit Boost"
      ]
    },
    {
      "cell_type": "code",
      "execution_count": null,
      "metadata": {
        "colab": {
          "base_uri": "https://localhost:8080/"
        },
        "id": "kaz3vACJe8bH",
        "outputId": "b116f051-1554-4cf9-f611-dd7e0434df9d"
      },
      "outputs": [
        {
          "name": "stdout",
          "output_type": "stream",
          "text": [
            "Looking in indexes: https://pypi.org/simple, https://us-python.pkg.dev/colab-wheels/public/simple/\n",
            "Collecting logitboost\n",
            "  Downloading logitboost-0.7-py3-none-any.whl (9.1 kB)\n",
            "Requirement already satisfied: scikit-learn in /usr/local/lib/python3.7/dist-packages (from logitboost) (1.0.2)\n",
            "Requirement already satisfied: scipy in /usr/local/lib/python3.7/dist-packages (from logitboost) (1.4.1)\n",
            "Requirement already satisfied: numpy in /usr/local/lib/python3.7/dist-packages (from logitboost) (1.21.6)\n",
            "Requirement already satisfied: threadpoolctl>=2.0.0 in /usr/local/lib/python3.7/dist-packages (from scikit-learn->logitboost) (3.1.0)\n",
            "Requirement already satisfied: joblib>=0.11 in /usr/local/lib/python3.7/dist-packages (from scikit-learn->logitboost) (1.1.0)\n",
            "Installing collected packages: logitboost\n",
            "Successfully installed logitboost-0.7\n"
          ]
        }
      ],
      "source": [
        "! pip install logitboost\n"
      ]
    },
    {
      "cell_type": "code",
      "execution_count": null,
      "metadata": {
        "colab": {
          "base_uri": "https://localhost:8080/"
        },
        "id": "FeCjG8UAfLQg",
        "outputId": "35df48cc-52fb-4e63-b5cb-404958f19449"
      },
      "outputs": [
        {
          "name": "stdout",
          "output_type": "stream",
          "text": [
            "Best Score: 0.8647910130598117\n",
            "Best Hyperparameters: {'n_estimators': 180}\n"
          ]
        }
      ],
      "source": [
        "import logitboost as lb\n",
        "# Define model\n",
        "model = lb.LogitBoost()\n",
        "\n",
        "# define search space\n",
        "param_grid = {\n",
        "    'n_estimators': list(range(80, 200, 10))\n",
        "}\n",
        "\n",
        "search = RandomizedSearchCV(model, param_grid, n_iter=5, cv=10, scoring='accuracy', n_jobs=-1, random_state=1)\n",
        "\n",
        "# execute search\n",
        "result = search.fit(X_train, y_train)\n",
        "# summarize result\n",
        "print('Best Score: %s' % result.best_score_)\n",
        "print('Best Hyperparameters: %s' % result.best_params_)"
      ]
    },
    {
      "cell_type": "code",
      "execution_count": null,
      "metadata": {
        "colab": {
          "base_uri": "https://localhost:8080/"
        },
        "id": "812zJuJWyVCO",
        "outputId": "5252d029-5bcf-45ca-cd59-51023ef8e888"
      },
      "outputs": [
        {
          "name": "stdout",
          "output_type": "stream",
          "text": [
            "              precision    recall  f1-score   support\n",
            "\n",
            "           0       0.84      0.91      0.87     16419\n",
            "           1       0.90      0.83      0.86     16370\n",
            "\n",
            "    accuracy                           0.87     32789\n",
            "   macro avg       0.87      0.87      0.87     32789\n",
            "weighted avg       0.87      0.87      0.87     32789\n",
            "\n"
          ]
        }
      ],
      "source": [
        "# Prediction with best model from random search \n",
        "best_random = result.best_estimator_\n",
        "\n",
        "y_pred_test = best_random.predict(X_test)\n",
        "print(classification_report(y_test, y_pred_test))"
      ]
    },
    {
      "cell_type": "markdown",
      "metadata": {
        "id": "anm44oKOrgU2"
      },
      "source": [
        "## Neural Network"
      ]
    },
    {
      "cell_type": "code",
      "execution_count": null,
      "metadata": {
        "id": "9c05hKy_1Lth"
      },
      "outputs": [],
      "source": [
        "# import tensorflow\n",
        "import tensorflow as tf\n",
        "from tensorflow.keras import Sequential\n",
        "from tensorflow.keras import Input\n",
        "from tensorflow.keras.layers import Dropout\n",
        "from tensorflow.keras.layers import Dense\n",
        "\n",
        "\n",
        "# use keras API\n",
        "model = tf.keras.Sequential()\n",
        "\n",
        "# determine the number of input features\n",
        "n_features = X_train.shape[1]\n",
        "# define model\n",
        "model = Sequential()\n",
        "model.add(Input(shape=X_train.shape[1]))\n",
        "model.add(Dense(100, activation='relu', kernel_initializer='he_normal'))\n",
        "model.add(Dropout(0.4))\n",
        "model.add(Dense(100, activation='relu', kernel_initializer='he_normal'))\n",
        "model.add(Dropout(0.6))\n",
        "model.add(Dense(50, activation='relu', kernel_initializer='he_normal'))\n",
        "model.add(Dropout(0.6))\n",
        "model.add(Dense(1, activation='sigmoid'))"
      ]
    },
    {
      "cell_type": "code",
      "execution_count": null,
      "metadata": {
        "colab": {
          "base_uri": "https://localhost:8080/"
        },
        "id": "QkhKwd7p4ZZW",
        "outputId": "f67fae36-5d87-4b67-e802-649db9478832"
      },
      "outputs": [
        {
          "name": "stdout",
          "output_type": "stream",
          "text": [
            "Epoch 1/50\n",
            "521/521 [==============================] - 6s 10ms/step - loss: 0.2465 - accuracy: 0.8929\n",
            "Epoch 2/50\n",
            "521/521 [==============================] - 5s 10ms/step - loss: 0.2275 - accuracy: 0.9005\n",
            "Epoch 3/50\n",
            "521/521 [==============================] - 5s 10ms/step - loss: 0.2184 - accuracy: 0.9047\n",
            "Epoch 4/50\n",
            "521/521 [==============================] - 5s 9ms/step - loss: 0.2104 - accuracy: 0.9080\n",
            "Epoch 5/50\n",
            "521/521 [==============================] - 5s 10ms/step - loss: 0.2041 - accuracy: 0.9098\n",
            "Epoch 6/50\n",
            "521/521 [==============================] - 5s 10ms/step - loss: 0.2004 - accuracy: 0.9105\n",
            "Epoch 7/50\n",
            "521/521 [==============================] - 5s 10ms/step - loss: 0.1969 - accuracy: 0.9130\n",
            "Epoch 8/50\n",
            "521/521 [==============================] - 5s 10ms/step - loss: 0.1943 - accuracy: 0.9136\n",
            "Epoch 9/50\n",
            "521/521 [==============================] - 5s 10ms/step - loss: 0.1900 - accuracy: 0.9158\n",
            "Epoch 10/50\n",
            "521/521 [==============================] - 5s 10ms/step - loss: 0.1850 - accuracy: 0.9175\n",
            "Epoch 11/50\n",
            "521/521 [==============================] - 5s 10ms/step - loss: 0.1844 - accuracy: 0.9184\n",
            "Epoch 12/50\n",
            "521/521 [==============================] - 5s 10ms/step - loss: 0.1803 - accuracy: 0.9215\n",
            "Epoch 13/50\n",
            "521/521 [==============================] - 5s 10ms/step - loss: 0.1770 - accuracy: 0.9216\n",
            "Epoch 14/50\n",
            "521/521 [==============================] - 5s 10ms/step - loss: 0.1773 - accuracy: 0.9209\n",
            "Epoch 15/50\n",
            "521/521 [==============================] - 5s 10ms/step - loss: 0.1744 - accuracy: 0.9229\n",
            "Epoch 16/50\n",
            "521/521 [==============================] - 5s 10ms/step - loss: 0.1733 - accuracy: 0.9236\n",
            "Epoch 17/50\n",
            "521/521 [==============================] - 5s 10ms/step - loss: 0.1701 - accuracy: 0.9247\n",
            "Epoch 18/50\n",
            "521/521 [==============================] - 5s 10ms/step - loss: 0.1719 - accuracy: 0.9241\n",
            "Epoch 19/50\n",
            "521/521 [==============================] - 5s 10ms/step - loss: 0.1688 - accuracy: 0.9261\n",
            "Epoch 20/50\n",
            "521/521 [==============================] - 5s 10ms/step - loss: 0.1682 - accuracy: 0.9256\n",
            "Epoch 21/50\n",
            "521/521 [==============================] - 5s 10ms/step - loss: 0.1658 - accuracy: 0.9261\n",
            "Epoch 22/50\n",
            "521/521 [==============================] - 5s 10ms/step - loss: 0.1639 - accuracy: 0.9266\n",
            "Epoch 23/50\n",
            "521/521 [==============================] - 5s 10ms/step - loss: 0.1649 - accuracy: 0.9268\n",
            "Epoch 24/50\n",
            "521/521 [==============================] - 5s 10ms/step - loss: 0.1614 - accuracy: 0.9289\n",
            "Epoch 25/50\n",
            "521/521 [==============================] - 5s 10ms/step - loss: 0.1613 - accuracy: 0.9287\n",
            "Epoch 26/50\n",
            "521/521 [==============================] - 5s 10ms/step - loss: 0.1597 - accuracy: 0.9287\n",
            "Epoch 27/50\n",
            "521/521 [==============================] - 5s 10ms/step - loss: 0.1579 - accuracy: 0.9299\n",
            "Epoch 28/50\n",
            "521/521 [==============================] - 5s 10ms/step - loss: 0.1572 - accuracy: 0.9301\n",
            "Epoch 29/50\n",
            "521/521 [==============================] - 5s 10ms/step - loss: 0.1550 - accuracy: 0.9323\n",
            "Epoch 30/50\n",
            "521/521 [==============================] - 5s 10ms/step - loss: 0.1568 - accuracy: 0.9298\n",
            "Epoch 31/50\n",
            "521/521 [==============================] - 6s 12ms/step - loss: 0.1542 - accuracy: 0.9320\n",
            "Epoch 32/50\n",
            "521/521 [==============================] - 6s 12ms/step - loss: 0.1526 - accuracy: 0.9321\n",
            "Epoch 33/50\n",
            "521/521 [==============================] - 5s 10ms/step - loss: 0.1520 - accuracy: 0.9329\n",
            "Epoch 34/50\n",
            "521/521 [==============================] - 5s 10ms/step - loss: 0.1509 - accuracy: 0.9338\n",
            "Epoch 35/50\n",
            "521/521 [==============================] - 5s 10ms/step - loss: 0.1513 - accuracy: 0.9323\n",
            "Epoch 36/50\n",
            "521/521 [==============================] - 5s 10ms/step - loss: 0.1489 - accuracy: 0.9339\n",
            "Epoch 37/50\n",
            "521/521 [==============================] - 5s 10ms/step - loss: 0.1470 - accuracy: 0.9352\n",
            "Epoch 38/50\n",
            "521/521 [==============================] - 5s 10ms/step - loss: 0.1480 - accuracy: 0.9353\n",
            "Epoch 39/50\n",
            "521/521 [==============================] - 5s 10ms/step - loss: 0.1471 - accuracy: 0.9354\n",
            "Epoch 40/50\n",
            "521/521 [==============================] - 5s 10ms/step - loss: 0.1478 - accuracy: 0.9342\n",
            "Epoch 41/50\n",
            "521/521 [==============================] - 5s 10ms/step - loss: 0.1456 - accuracy: 0.9364\n",
            "Epoch 42/50\n",
            "521/521 [==============================] - 5s 10ms/step - loss: 0.1465 - accuracy: 0.9355\n",
            "Epoch 43/50\n",
            "521/521 [==============================] - 7s 13ms/step - loss: 0.1447 - accuracy: 0.9361\n",
            "Epoch 44/50\n",
            "521/521 [==============================] - 5s 10ms/step - loss: 0.1433 - accuracy: 0.9364\n",
            "Epoch 45/50\n",
            "521/521 [==============================] - 6s 11ms/step - loss: 0.1439 - accuracy: 0.9362\n",
            "Epoch 46/50\n",
            "521/521 [==============================] - 5s 10ms/step - loss: 0.1454 - accuracy: 0.9359\n",
            "Epoch 47/50\n",
            "521/521 [==============================] - 6s 11ms/step - loss: 0.1431 - accuracy: 0.9371\n",
            "Epoch 48/50\n",
            "521/521 [==============================] - 5s 10ms/step - loss: 0.1424 - accuracy: 0.9377\n",
            "Epoch 49/50\n",
            "521/521 [==============================] - 5s 10ms/step - loss: 0.1406 - accuracy: 0.9384\n",
            "Epoch 50/50\n",
            "521/521 [==============================] - 5s 10ms/step - loss: 0.1412 - accuracy: 0.9377\n",
            "1025/1025 [==============================] - 3s 3ms/step - loss: 0.1856 - accuracy: 0.9250\n"
          ]
        }
      ],
      "source": [
        "model.compile(optimizer='adam',\n",
        "              loss='binary_crossentropy',\n",
        "              metrics=['accuracy'])\n",
        "\n",
        "model.fit(X_train, y_train, epochs=50, batch_size=128)\n",
        "test_loss, test_acc = model.evaluate(X_test, y_test)"
      ]
    },
    {
      "cell_type": "code",
      "execution_count": null,
      "metadata": {
        "colab": {
          "base_uri": "https://localhost:8080/"
        },
        "id": "Swdg5ucyJXIW",
        "outputId": "4b93091d-f721-4191-dfa6-85096818df6f"
      },
      "outputs": [
        {
          "name": "stdout",
          "output_type": "stream",
          "text": [
            "              precision    recall  f1-score   support\n",
            "\n",
            "           0       0.92      0.94      0.93     16419\n",
            "           1       0.94      0.91      0.92     16370\n",
            "\n",
            "    accuracy                           0.93     32789\n",
            "   macro avg       0.93      0.92      0.92     32789\n",
            "weighted avg       0.93      0.93      0.92     32789\n",
            "\n"
          ]
        }
      ],
      "source": [
        "y_pred_test = model.predict(X_test)\n",
        "y_pred_test = [int(i > .5) for i in y_pred_test]\n",
        "\n",
        "print(classification_report(y_test, y_pred_test))\n"
      ]
    }
  ],
  "metadata": {
    "colab": {
      "collapsed_sections": [],
      "name": "ModelsTrainingAndTest.ipynb",
      "provenance": []
    },
    "kernelspec": {
      "display_name": "Python 3",
      "language": "python",
      "name": "python3"
    },
    "language_info": {
      "codemirror_mode": {
        "name": "ipython",
        "version": 3
      },
      "file_extension": ".py",
      "mimetype": "text/x-python",
      "name": "python",
      "nbconvert_exporter": "python",
      "pygments_lexer": "ipython3",
      "version": "3.6.5"
    }
  },
  "nbformat": 4,
  "nbformat_minor": 0
}
